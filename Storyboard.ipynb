{
 "cells": [
  {
   "cell_type": "code",
   "execution_count": 10,
   "id": "39c436f5-a358-4564-bd8c-a25632ba4da5",
   "metadata": {},
   "outputs": [
    {
     "name": "stdout",
     "output_type": "stream",
     "text": [
      "{'scenes': [{'visuals': \"Show the title 'Universal Generalization in Discrete Mathematics' with a simple background.\", 'audio': 'Welcome to our new topic: Universal Generalization in Discrete Mathematics.'}, {'visuals': \"Animated display of a universal quantification symbol (∀) and an example of a universally quantified statement. Example: '∀x in Z, x^2 >= 0', where Z represents the set of all integers.\", 'audio': \"Universal generalization is a rule of inference used in proofs. It is denoted by the symbol '∀'. For example, '∀x in Z, x^2 >= 0' means that for all x in the set of integers, the square of x is greater than or equal to zero.\"}, {'visuals': 'Show a set of integers on a number line. Highlight some random numbers and their corresponding squares on the graph.', 'audio': \"Let's consider the set of integers. If we pick any random integer from this set and square it, the result is always non-negative.\"}, {'visuals': 'Draw a graph with x-axis as integers and y-axis as their squares. Show that all points lie on or above the x-axis.', 'audio': 'Graphically, you can see that for every integer x, the square of x, which is represented by the y-coordinate, is always on or above the x-axis. This confirms our universally quantified statement.'}, {'visuals': 'Show the steps to apply the rule of universal generalization in a proof. Use latex for mathematical expressions.', 'audio': \"When applying the rule of universal generalization in a proof, we start with an arbitrary object from a particular set, and if we can prove a property for this object, we can then generalize that this property holds for all objects in that set. Let's explore this in our next video.\"}]}\n"
     ]
    }
   ],
   "source": [
    "from typing import List\n",
    "\n",
    "from langchain.llms import OpenAI\n",
    "from langchain.output_parsers import PydanticOutputParser\n",
    "from langchain.prompts import PromptTemplate\n",
    "from langchain.pydantic_v1 import BaseModel, Field, validator\n",
    "from typing import List\n",
    "\n",
    "from langchain import PromptTemplate\n",
    "from langchain.prompts.chat import (\n",
    "    ChatPromptTemplate,\n",
    "    SystemMessagePromptTemplate,\n",
    "    AIMessagePromptTemplate,\n",
    "    HumanMessagePromptTemplate,\n",
    ")\n",
    "from langchain.chat_models import ChatOpenAI\n",
    "\n",
    "from dotenv import load_dotenv\n",
    "\n",
    "import json\n",
    "\n",
    "load_dotenv()\n",
    "\n",
    "chat = ChatOpenAI(model=\"gpt-4\")\n",
    "\n",
    "template=\"Can you generate a concise storyboard that helps to explain the following concept/answer the provided question in the style of a khan academy video. Use examples including latex, graphs, animations, charts, and more. Make it as visual as possible. Only include enough information to be able to replicate you vision, the bare minimum description. Your storyboard can include anything possible in manim. You should not exceed 5 scenes. You should answer in the following format: {formatting_instructions}\"\n",
    "system_message_prompt = SystemMessagePromptTemplate.from_template(template)\n",
    "human_template=\"{text}\"\n",
    "human_message_prompt = HumanMessagePromptTemplate.from_template(human_template)\n",
    "\n",
    "chat_prompt = ChatPromptTemplate.from_messages([system_message_prompt, human_message_prompt])\n",
    "\n",
    "class Scene(BaseModel):\n",
    "    visuals: str\n",
    "    audio: str\n",
    "\n",
    "class Storyboard(BaseModel):\n",
    "    scenes: List[Scene]\n",
    "\n",
    "parser = PydanticOutputParser(pydantic_object=Storyboard)\n",
    "\n",
    "print(json.loads(chat(chat_prompt.format_prompt(formatting_instructions=parser.get_format_instructions(), text=\"Universal Generalization in Discrete Mathematics\").to_messages()).content))\n"
   ]
  },
  {
   "cell_type": "code",
   "execution_count": null,
   "id": "117c785f-f60b-4674-9de0-3da247650725",
   "metadata": {},
   "outputs": [],
   "source": []
  }
 ],
 "metadata": {
  "kernelspec": {
   "display_name": "Python 3 (ipykernel)",
   "language": "python",
   "name": "python3"
  },
  "language_info": {
   "codemirror_mode": {
    "name": "ipython",
    "version": 3
   },
   "file_extension": ".py",
   "mimetype": "text/x-python",
   "name": "python",
   "nbconvert_exporter": "python",
   "pygments_lexer": "ipython3",
   "version": "3.11.5"
  }
 },
 "nbformat": 4,
 "nbformat_minor": 5
}
