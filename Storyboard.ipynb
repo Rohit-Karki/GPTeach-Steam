{
 "cells": [
  {
   "cell_type": "code",
   "execution_count": 4,
   "id": "39c436f5-a358-4564-bd8c-a25632ba4da5",
   "metadata": {},
   "outputs": [
    {
     "name": "stdout",
     "output_type": "stream",
     "text": [
      "content='{\\n  \"scenes\": [\\n    {\\n      \"visuals\": \"Title scene with the words \\'Universal Generalization in Discrete Mathematics\\' appearing on a black background.\",\\n      \"audio\": \"Hello! Today, we will be discussing Universal Generalization in Discrete Mathematics.\"\\n    },\\n    {\\n      \"visuals\": \"Slide showing the definition of Universal Generalization. The definition is highlighted and underlined.\",\\n      \"audio\": \"Universal Generalization is a rule of inference. It states that if you have a statement that is true for an arbitrary element, then it is true for all elements in the domain.\"\\n    },\\n    {\\n      \"visuals\": \"Slide showing a symbolic representation of Universal Generalization: (∀x)P(x). The symbol ∀ is highlighted and explained.\",\\n      \"audio\": \"In symbolic form, Universal Generalization is represented as (∀x)P(x), where ∀ is a symbol meaning \\'for all\\', x represents an arbitrary element, and P(x) is a property that x possesses.\"\\n    },\\n    {\\n      \"visuals\": \"Animation showing an example of Universal Generalization using a set of numbers. A series of numbers with the property P(x) are shown, and the statement \\'For all x, P(x)\\' appears.\",\\n      \"audio\": \"Let\\'s see an example. Suppose we have a set of numbers, and we know that each number in the set has a certain property - let\\'s call it P(x). We can then state that for all numbers in the set, P(x).\"\\n    },\\n    {\\n      \"visuals\": \"Graph showing the use of Universal Generalization in a proof. A series of logical steps are highlighted, demonstrating how Universal Generalization can be used to prove a statement.\",\\n      \"audio\": \"Universal Generalization can be used in proofs. If you can show that a statement is true for an arbitrary element, you can use Universal Generalization to conclude that the statement is true for all elements.\"\\n    },\\n    {\\n      \"visuals\": \"Slide summarizing the concept of Universal Generalization. Key points are highlighted and the symbolic representation (∀x)P(x) is shown again.\",\\n      \"audio\": \"So to summarize, Universal Generalization is a rule of inference in discrete mathematics that allows us to state that if a property is true for an arbitrary element, it is true for all elements. It is represented symbolically as (∀x)P(x).\"\\n    }\\n  ]\\n}' additional_kwargs={} example=False\n"
     ]
    }
   ],
   "source": [
    "from typing import List\n",
    "\n",
    "from langchain.llms import OpenAI\n",
    "from langchain.output_parsers import PydanticOutputParser\n",
    "from langchain.prompts import PromptTemplate\n",
    "from langchain.pydantic_v1 import BaseModel, Field, validator\n",
    "from typing import List\n",
    "\n",
    "from langchain import PromptTemplate\n",
    "from langchain.prompts.chat import (\n",
    "    ChatPromptTemplate,\n",
    "    SystemMessagePromptTemplate,\n",
    "    AIMessagePromptTemplate,\n",
    "    HumanMessagePromptTemplate,\n",
    ")\n",
    "from langchain.chat_models import ChatOpenAI\n",
    "\n",
    "from dotenv import load_dotenv\n",
    "\n",
    "import json\n",
    "\n",
    "load_dotenv()\n",
    "\n",
    "chat = ChatOpenAI(model=\"gpt-3.5-turbo\")\n",
    "\n",
    "template=\"Can you generate a storyboard that helps to explain the following concept/answer the provided question in the style of a khan academy video. Use examples including latex, graphs, animations, charts, and more. Make it as visual as possible. Your storyboard can include anything possible in manim. You should answer in the following format: {formatting_instructions}\"\n",
    "system_message_prompt = SystemMessagePromptTemplate.from_template(template)\n",
    "human_template=\"{text}\"\n",
    "human_message_prompt = HumanMessagePromptTemplate.from_template(human_template)\n",
    "\n",
    "chat_prompt = ChatPromptTemplate.from_messages([system_message_prompt, human_message_prompt])\n",
    "\n",
    "class Scene(BaseModel):\n",
    "    visuals: str\n",
    "    audio: str\n",
    "\n",
    "class Storyboard(BaseModel):\n",
    "    scenes: List[Scene]\n",
    "\n",
    "parser = PydanticOutputParser(pydantic_object=Storyboard)\n",
    "\n",
    "print(json.loads(chat(chat_prompt.format_prompt(formatting_instructions=parser.get_format_instructions(), text=\"Universal Generalization in Discrete Mathematics\").to_messages())))\n"
   ]
  },
  {
   "cell_type": "code",
   "execution_count": null,
   "id": "117c785f-f60b-4674-9de0-3da247650725",
   "metadata": {},
   "outputs": [],
   "source": []
  }
 ],
 "metadata": {
  "kernelspec": {
   "display_name": "Python 3 (ipykernel)",
   "language": "python",
   "name": "python3"
  },
  "language_info": {
   "codemirror_mode": {
    "name": "ipython",
    "version": 3
   },
   "file_extension": ".py",
   "mimetype": "text/x-python",
   "name": "python",
   "nbconvert_exporter": "python",
   "pygments_lexer": "ipython3",
   "version": "3.11.5"
  }
 },
 "nbformat": 4,
 "nbformat_minor": 5
}
